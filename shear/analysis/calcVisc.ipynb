{
 "cells": [
  {
   "cell_type": "code",
   "execution_count": null,
   "metadata": {},
   "outputs": [],
   "source": [
    "# For Plotting Visc(edot)_conc"
   ]
  },
  {
   "cell_type": "code",
   "execution_count": 59,
   "metadata": {
    "scrolled": false
   },
   "outputs": [
    {
     "name": "stdout",
     "output_type": "stream",
     "text": [
      "visc_tr: -1.75714\n",
      "visc_tr: 13.6207\n",
      "visc_tr: 10.2419\n",
      "visc_tr: 16.5085\n",
      "visc_tr: 7.28837\n",
      "visc_tr: 2.59175\n",
      "visc_tr: 2.60166\n",
      "visc_tr: 0.912266\n",
      "visc_tr: 3.40929\n",
      "visc_tr: 2.65267\n",
      "visc_tr: 2.31429\n",
      "visc_tr: 2.27523\n",
      "visc_tr: 1.77208\n",
      "visc_tr: 2.13576\n",
      "visc_tr: 2.34378\n",
      "visc_tr: 1.24246\n",
      "visc_tr: 1.56682\n",
      "visc_tr: 1.39766\n",
      "visc_tr: 1.6708\n",
      "visc_tr: 1.49939\n",
      "visc_tr: 1.34654\n",
      "visc_tr: 1.09776\n",
      "visc_tr: 1.30766\n",
      "visc_tr: 1.30328\n",
      "visc_tr: 1.21665\n",
      "visc_tr: 1.08805\n",
      "visc_tr: 1.0955\n",
      "visc_tr: 1.08174\n",
      "visc_tr: 1.12644\n",
      "visc_tr: 1.10931\n",
      "Done\n"
     ]
    },
    {
     "data": {
      "image/png": "[encoded data removed]",
      "text/plain": [
       "<Figure size 640x480 with 1 Axes>"
      ]
     },
     "metadata": {},
     "output_type": "display_data"
    }
   ],
   "source": [
    "import numpy as np\n",
    "import matplotlib.pyplot as plt\n",
    "import csv\n",
    "\n",
    "Nb = 50\n",
    "Nc = 10\n",
    "#conc = np.array([0.005,0.5,2])\n",
    "conc = np.array([0.5])\n",
    "box_length = np.array([42.263516])\n",
    "#box_length = np.array([196.169866,42.263516,26.624347])\n",
    "Ncharges = 0\n",
    "barrier = 3\n",
    "barrier2 = 3\n",
    "lambda_d = 10\n",
    "edot = np.array([0.00008]) \n",
    "#edot = np.array([0.00008,0.00041,0.00082,0.00410,0.0082,0.01639]) \n",
    "#edot = np.array([0.00286,0.00571,0.01143,0.02857])\n",
    "it = 1\n",
    "ntr = 5\n",
    "visc_tr = np.zeros(ntr)\n",
    "visc_avg = np.zeros(len(edot))\n",
    "visc_std = np.zeros(len(edot))\n",
    "# tmax = 4999.5#last timestep in MSD file\n",
    "# printprops = 1000\n",
    "# dt = 0.0005\n",
    "Wi = edot*175\n",
    "# nsamp = int(tmax/(dt*printprops))\n",
    "\n",
    "for c in range(0,len(conc)):\n",
    "    \n",
    "    for d in range(0,len(edot)):\n",
    "        shear=edot[d]\n",
    "        for tr in range(1,ntr+1):\n",
    "\n",
    "            file_name = \"prop/VF\" + str(Nb)+ \"_\" + str(Nc) + \"_\" + format(conc[c],'.6f') + \"_\" +format(box_length[c],'.6f') + \"_\"+ str(Ncharges) + \"_\" + format(barrier,'.2f') + \"_\" + format(barrier2,'.2f')+\"_\"+ format(lambda_d,'.2f')+\"_\"+ format(edot[d],'.5f')+\"_\"+str(tr)+\"_\" +str(it)+\".txt\"\n",
    "            #print(file_name)\n",
    "            \n",
    "            \"\"\"\n",
    "            Extracting data\n",
    "            \"\"\"     \n",
    "            tau_ss = 4000 #Set Steady-state Time (time/printprops)\n",
    "            my_data = np.loadtxt(file_name,delimiter=' ')\n",
    "            time = my_data[tau_ss:,0]\n",
    "            tauxy_data = my_data[tau_ss:,1]\n",
    "            \n",
    "            \"\"\"\n",
    "            Check for Noise & Steady-State\n",
    "            \"\"\"  \n",
    "            #plt.plot(time,tauxy_data)\n",
    "            \n",
    "            \"Remove Noise\"\n",
    "            cutoff = 500\n",
    "            tauxy = np.delete(tauxy_data,np.where(abs(tauxy_data)>cutoff))\n",
    "            time = np.delete(time,np.where(abs(tauxy_data)>cutoff))\n",
    "            for i in range(0,len(tauxy)):\n",
    "                if(abs(tauxy[i])>500):\n",
    "                    print(\"i: %g tauxy: %g\\n\"%(i,tauxy[i]))\n",
    "            #plt.plot(time,tauxy)\n",
    "            \n",
    "            \"Calculate Viscosity\"\n",
    "            V = box_length[c]*box_length[c]*box_length[c]\n",
    "            visc = (6*np.pi*tauxy)/(2*V*shear*conc[c])\n",
    "            visc_tr[tr-1] = np.average(visc)\n",
    "            #visc_tr[tr-1] = np.average(tauxy/edot[d])    #test line\n",
    "            print(\"visc_tr: %g\"%visc_tr[tr-1])\n",
    "            \n",
    "        \"Average Viscosity thru Trajectories\"\n",
    "        visc_avg[d] = np.average(np.abs(visc_tr))\n",
    "        visc_std[d] = np.std(visc_tr)\n",
    "        #print(\"Shear Viscosity: %g\\n\"%visc_avg[c])\n",
    "        \n",
    "    \"Plot Results\"\n",
    "    plt.loglog(Wi,visc_avg)\n",
    "    plt.xlabel('Wi')\n",
    "    plt.ylabel('tauxy')\n",
    "\n",
    "    \"\"\"\n",
    "    Output\n",
    "    \"\"\"     \n",
    "\n",
    "#     with open('prop/avgVisc(Wi)_conc_'+format(conc[c],'.6f')+'c_'+'_Nchrg'+str(Ncharges)+\"_it\"+str(it)+\".csv\",mode='w') as practice_file:\n",
    "#         practice = csv.writer(practice_file,delimiter=',')\n",
    "#         y = [\"edot\",\"visc\",\"Err\"]\n",
    "#         practice.writerow(y)\n",
    "#         for i in range(len(edot)):\n",
    "#             x = [Wi[i],visc_avg[i],visc_std[i]/np.sqrt(ntr)]\n",
    "#             practice.writerow(x)\n",
    "#         #print(x)\n",
    "            \n",
    "\n",
    "print(\"Done\")  \n",
    "            \n",
    "            \n",
    "            \n",
    "            \n",
    "            \n",
    "            \n",
    "            \n",
    "            "
   ]
  },
  {
   "cell_type": "code",
   "execution_count": 53,
   "metadata": {},
   "outputs": [
    {
     "data": {
      "text/plain": [
       "array([8.000e-05, 4.100e-04, 8.200e-04, 4.100e-03, 8.200e-03, 1.639e-02])"
      ]
     },
     "execution_count": 53,
     "metadata": {},
     "output_type": "execute_result"
    }
   ],
   "source": [
    "edot"
   ]
  },
  {
   "cell_type": "code",
   "execution_count": 54,
   "metadata": {},
   "outputs": [
    {
     "data": {
      "text/plain": [
       "array([ 2.3215114 ,  4.50244358,  6.65701202, 24.55494319, 41.68097341,\n",
       "       70.30056523])"
      ]
     },
     "execution_count": 54,
     "metadata": {},
     "output_type": "execute_result"
    }
   ],
   "source": [
    "visc_avg"
   ]
  },
  {
   "cell_type": "code",
   "execution_count": 47,
   "metadata": {},
   "outputs": [
    {
     "data": {
      "text/plain": [
       "0.7869825803211378"
      ]
     },
     "execution_count": 47,
     "metadata": {},
     "output_type": "execute_result"
    }
   ],
   "source": []
  },
  {
   "cell_type": "code",
   "execution_count": 20,
   "metadata": {},
   "outputs": [],
   "source": [
    "# For Plotting Visc(conc)_edot"
   ]
  },
  {
   "cell_type": "code",
   "execution_count": 23,
   "metadata": {},
   "outputs": [
    {
     "name": "stdout",
     "output_type": "stream",
     "text": [
      "prop/VF50_10_0.500000_42.263516_0_3.00_3.00_10.00_0.00820_1_1.txt\n",
      "prop/VF50_10_0.500000_42.263516_0_3.00_3.00_10.00_0.00820_2_1.txt\n",
      "prop/VF50_10_0.500000_42.263516_0_3.00_3.00_10.00_0.00820_3_1.txt\n",
      "prop/VF50_10_0.500000_42.263516_0_3.00_3.00_10.00_0.00820_4_1.txt\n",
      "prop/VF50_10_0.500000_42.263516_0_3.00_3.00_10.00_0.00820_5_1.txt\n",
      "prop/VF50_10_0.500000_42.263516_0_3.00_3.00_10.00_0.00820_6_1.txt\n",
      "prop/VF50_10_0.500000_42.263516_0_3.00_3.00_10.00_0.00820_7_1.txt\n",
      "prop/VF50_10_0.500000_42.263516_0_3.00_3.00_10.00_0.00820_8_1.txt\n",
      "prop/VF50_10_0.500000_42.263516_0_3.00_3.00_10.00_0.00820_9_1.txt\n",
      "prop/VF50_10_0.500000_42.263516_0_3.00_3.00_10.00_0.00820_10_1.txt\n",
      "prop/VF50_10_0.500000_42.263516_0_3.00_3.00_10.00_0.00820_11_1.txt\n",
      "prop/VF50_10_0.500000_42.263516_0_3.00_3.00_10.00_0.00820_12_1.txt\n",
      "prop/VF50_10_0.500000_42.263516_0_3.00_3.00_10.00_0.00820_13_1.txt\n",
      "prop/VF50_10_0.500000_42.263516_0_3.00_3.00_10.00_0.00820_14_1.txt\n",
      "prop/VF50_10_0.500000_42.263516_0_3.00_3.00_10.00_0.00820_15_1.txt\n",
      "Shear Viscosity: 6829.73\n",
      "\n",
      "prop/VF50_10_0.500000_42.263516_0_3.00_3.00_10.00_0.00041_1_1.txt\n",
      "prop/VF50_10_0.500000_42.263516_0_3.00_3.00_10.00_0.00041_2_1.txt\n",
      "prop/VF50_10_0.500000_42.263516_0_3.00_3.00_10.00_0.00041_3_1.txt\n",
      "prop/VF50_10_0.500000_42.263516_0_3.00_3.00_10.00_0.00041_4_1.txt\n",
      "prop/VF50_10_0.500000_42.263516_0_3.00_3.00_10.00_0.00041_5_1.txt\n",
      "prop/VF50_10_0.500000_42.263516_0_3.00_3.00_10.00_0.00041_6_1.txt\n",
      "prop/VF50_10_0.500000_42.263516_0_3.00_3.00_10.00_0.00041_7_1.txt\n",
      "prop/VF50_10_0.500000_42.263516_0_3.00_3.00_10.00_0.00041_8_1.txt\n",
      "prop/VF50_10_0.500000_42.263516_0_3.00_3.00_10.00_0.00041_9_1.txt\n",
      "prop/VF50_10_0.500000_42.263516_0_3.00_3.00_10.00_0.00041_10_1.txt\n",
      "prop/VF50_10_0.500000_42.263516_0_3.00_3.00_10.00_0.00041_11_1.txt\n",
      "prop/VF50_10_0.500000_42.263516_0_3.00_3.00_10.00_0.00041_12_1.txt\n",
      "prop/VF50_10_0.500000_42.263516_0_3.00_3.00_10.00_0.00041_13_1.txt\n",
      "prop/VF50_10_0.500000_42.263516_0_3.00_3.00_10.00_0.00041_14_1.txt\n",
      "prop/VF50_10_0.500000_42.263516_0_3.00_3.00_10.00_0.00041_15_1.txt\n",
      "Shear Viscosity: 105526\n",
      "\n"
     ]
    },
    {
     "data": {
      "image/png": "[encoded data removed]",
      "text/plain": [
       "<Figure size 640x480 with 1 Axes>"
      ]
     },
     "metadata": {},
     "output_type": "display_data"
    }
   ],
   "source": [
    "import numpy as np\n",
    "import matplotlib.pyplot as plt\n",
    "import csv\n",
    "\n",
    "Nb = 50\n",
    "Nc = 10\n",
    "#conc = np.array([0.005,0.5,2])\n",
    "conc = np.array([0.5])\n",
    "box_length = np.array([42.263516])\n",
    "#box_length = np.array([196.169866,42.263516,26.624347])\n",
    "Ncharges = 0\n",
    "barrier = 3\n",
    "barrier2 = 3\n",
    "lambda_d = 10\n",
    "edot = np.array([0.00820,0.00041]) \n",
    "#edot = np.array([0.00008,0.00041,0.00082,0.00410,0.00820,0.01639,0.04098,0.08197,0.16393,0.81967,1.63934]) #for 0.5c*\n",
    "#edot = np.array([0.03704,0.07407,0.14815,0.74074,1.48148]) #for 1c*\n",
    "#edot = np.array([0.02591,0.05181,0.10363,0.51813,1.03627]) #for 2c*\n",
    "it = 1\n",
    "ntr = 15\n",
    "visc_tr = np.zeros(ntr)\n",
    "visc_avg = np.zeros(len(conc))\n",
    "visc_std = np.zeros(len(conc))\n",
    "\n",
    "Wi = edot*122\n",
    "# nsamp = int(tmax/(dt*printprops))\n",
    "\n",
    "for d in range(0,len(edot)):\n",
    "    for c in range(0,len(conc)):\n",
    "        for tr in range(1,ntr+1):\n",
    "\n",
    "            file_name = \"prop/VF\" + str(Nb)+ \"_\" + str(Nc) + \"_\" + format(conc[c],'.6f') + \"_\" +format(box_length[c],'.6f') + \"_\"+ str(Ncharges) + \"_\" + format(barrier,'.2f') + \"_\" + format(barrier2,'.2f')+\"_\"+ format(lambda_d,'.2f')+\"_\"+ format(edot[d],'.5f')+\"_\"+str(tr)+\"_\" +str(it)+\".txt\"\n",
    "            print(file_name)\n",
    "            \n",
    "            \"\"\"\n",
    "            Extracting data\n",
    "            \"\"\"     \n",
    "            tau_ss = 100 #Set Steady-state Time\n",
    "            my_data = np.loadtxt(file_name,delimiter=' ')\n",
    "            time = my_data[tau_ss:,0]\n",
    "            tauxy_data = my_data[tau_ss:,1]\n",
    "            \n",
    "            \"\"\"\n",
    "            Check for Steady-State\n",
    "            \"\"\"  \n",
    "            #plt.plot(time,tauxy_data)\n",
    "            \n",
    "            \n",
    "            \"Remove Noise\"\n",
    "            cutoff = 500\n",
    "            tauxy = np.delete(tauxy_data,np.where(abs(tauxy_data)>cutoff))\n",
    "            time = np.delete(time,np.where(abs(tauxy_data)>cutoff))\n",
    "#             for i in range(0,len(tauxy)):\n",
    "#                 if(abs(tauxy[i])>500):\n",
    "#                     print(\"i: %g tauxy: %g\\n\"%(i,tauxy[i]))\n",
    "#             print(tauxy)\n",
    "            #plt.plot(time,tauxy)\n",
    "           \n",
    "            \"Calculate Viscosity\"\n",
    "            visc = np.abs(tauxy)/edot[d]\n",
    "#             print(visc)\n",
    "            visc_tr[tr-1] = np.average(visc)\n",
    "            #print(visc_tr)\n",
    "            \n",
    "        \"Average Viscosity thru Trajectories\"\n",
    "        visc_avg[c] = np.average(visc_tr)\n",
    "        visc_std[c] = np.std(visc_tr)\n",
    "        print(\"Shear Viscosity: %g\\n\"%visc_avg[c])\n",
    "        \n",
    "        plt.plot(Wi,visc_avg)\n",
    "\n",
    "#     \"\"\"\n",
    "#     Output\n",
    "#     \"\"\"     \n",
    "\n",
    "#     with open('prop/avgVisc(conc)_Wi_'+'c_'+format(Wi[d],'.3f')+'_Nchrg'+str(Ncharges)+\"_it\"+str(it)+\".csv\",mode='w') as practice_file:\n",
    "#         practice = csv.writer(practice_file,delimiter=',')\n",
    "#         y = [\"conc\",\"visc\",\"Err\"]\n",
    "#         practice.writerow(y)\n",
    "#         for i in range(len(conc)):\n",
    "#             x = [conc[i],visc_avg[c],visc_std[c]/np.sqrt(ntr)]\n",
    "#             practice.writerow(x)\n",
    "#         #print(x)\n",
    "            \n",
    "\n",
    " \n",
    "            \n",
    "            \n",
    "            \n",
    "            \n",
    "            \n",
    "            \n",
    "            \n",
    "            "
   ]
  },
  {
   "cell_type": "code",
   "execution_count": 62,
   "metadata": {},
   "outputs": [],
   "source": [
    "i_delete = np.where(tauxy>500)"
   ]
  },
  {
   "cell_type": "code",
   "execution_count": 63,
   "metadata": {},
   "outputs": [
    {
     "name": "stdout",
     "output_type": "stream",
     "text": [
      "(array([3555]),)\n"
     ]
    }
   ],
   "source": [
    "#For Plotting \\Psi_1 AND \\Psi_2(Wi)_conc "
   ]
  },
  {
   "cell_type": "code",
   "execution_count": 4,
   "metadata": {},
   "outputs": [
    {
     "data": {
      "image/png": "[encoded data removed]",
      "text/plain": [
       "<Figure size 640x480 with 1 Axes>"
      ]
     },
     "metadata": {},
     "output_type": "display_data"
    },
    {
     "data": {
      "image/png": "[encoded data removed]",
      "text/plain": [
       "<Figure size 640x480 with 1 Axes>"
      ]
     },
     "metadata": {},
     "output_type": "display_data"
    },
    {
     "name": "stdout",
     "output_type": "stream",
     "text": [
      "Done\n"
     ]
    }
   ],
   "source": [
    "import numpy as np\n",
    "import matplotlib.pyplot as plt\n",
    "import csv\n",
    "\n",
    "Nb = 50\n",
    "Nc = 10\n",
    "#conc = np.array([0.005,0.5,2])\n",
    "conc = np.array([0.5])\n",
    "box_length = np.array([42.263516])\n",
    "#box_length = np.array([42.263516,33.544575,26.624347])\n",
    "Ncharges = 0\n",
    "barrier = 3\n",
    "barrier2 = 3\n",
    "lambda_d = 10\n",
    "#edot = np.array([0.00155,0.00207]) \n",
    "edot = np.array([0.00164,0.00246,0.00328,0.00410,0.00820,0.01639,0.04098,0.08197,0.16393,0.81967,1.63934]) #for 0.5c*\n",
    "#edot = np.array([0.00148,0.00222,0.00296,0.00370,0.00741,0.01481,0.03704,0.07407,0.14815,0.74074,1.48148]) #for 1c*\n",
    "#edot = np.array([0.00104,0.00155,0.00207,0.00259,0.00518,0.01036,0.02591,0.05181,0.10363,0.51813,1.03627]) #for 2c*\n",
    "it = 1\n",
    "ntr = 14\n",
    "psi1_tr = np.zeros(ntr)\n",
    "psi2_tr = np.zeros(ntr)\n",
    "psi1_avg = np.zeros(len(edot))\n",
    "psi1_std = np.zeros(len(edot))\n",
    "psi2_avg = np.zeros(len(edot))\n",
    "psi2_std = np.zeros(len(edot))\n",
    "# tmax = 4999.5#last timestep in MSD file\n",
    "# printprops = 1000\n",
    "# dt = 0.0005\n",
    "Wi = edot*193\n",
    "# nsamp = int(tmax/(dt*printprops))\n",
    "\n",
    "for c in range(0,len(conc)):\n",
    "    for d in range(0,len(edot)):\n",
    "        shear=edot[d]\n",
    "        #print(shear)\n",
    "        for tr in range(1,ntr+1):\n",
    "\n",
    "            file_name = \"prop/VF\" + str(Nb)+ \"_\" + str(Nc) + \"_\" + format(conc[c],'.6f') + \"_\" +format(box_length[c],'.6f') + \"_\"+ str(Ncharges) + \"_\" + format(barrier,'.2f') + \"_\" + format(barrier2,'.2f')+\"_\"+ format(lambda_d,'.2f')+\"_\"+ format(edot[d],'.5f')+\"_\"+str(tr)+\"_\" +str(it)+\".txt\"\n",
    "            #print(file_name)\n",
    "            \n",
    "            \"\"\"\n",
    "            Extracting data\n",
    "            \"\"\"     \n",
    "            tau_ss = 100 #Set Steady-state Time (time/printprops)\n",
    "            my_data = np.loadtxt(file_name,delimiter=' ')\n",
    "            time = my_data[tau_ss:,0]\n",
    "            tauxx = my_data[tau_ss:,2]\n",
    "            tauyy = my_data[tau_ss:,3]\n",
    "            tauzz = my_data[tau_ss:,4]\n",
    "            \n",
    "            \"\"\"\n",
    "            Check for Noise & Steady-State\n",
    "            \"\"\"  \n",
    "#             plt.plot(time,tauxx)\n",
    "#             plt.plot(time,tauyy)\n",
    "#             plt.plot(time,tauzz)\n",
    "            \n",
    "            \"Calculate \\Psi_1 and \\Psi_2\"\n",
    "            \n",
    "            V = box_length[c]*box_length[c]*box_length[c]\n",
    "            psi_1 = (tauxx - tauyy)/(2*V*strain*strain)\n",
    "            psi_2 = (tauyy - tauzz)/(2*V*strain*strain)\n",
    "            psi1_tr[tr-1] = np.average(psi_1)\n",
    "            psi2_tr[tr-1] = np.average(psi_2)\n",
    "            \n",
    "#             print(\"psi1_tr: %g\"%psi1_tr[tr-1])\n",
    "#             print(\"psi2_tr: %g\"%psi2_tr[tr-1])\n",
    "            \n",
    "        \"Average Viscosity thru Trajectories\"\n",
    "        psi1_avg[d] = np.average(np.abs(psi1_tr))\n",
    "        psi1_std[d] = np.std(psi1_tr)\n",
    "        psi2_avg[d] = np.average(np.abs(psi2_tr))\n",
    "        psi2_std[d] = np.std(psi2_tr)\n",
    "#         print(\"psi_1: %g\"%psi1_avg[d])\n",
    "#         print(\"psi_2: %g\"%psi2_avg[d])\n",
    "        \n",
    "    \"Plot Results\"\n",
    "    plt.loglog(Wi,psi1_avg)\n",
    "    plt.xlabel('Wi')\n",
    "    plt.ylabel(r'psi_1')\n",
    "    plt.show()\n",
    "    \n",
    "    plt.loglog(Wi,psi2_avg)\n",
    "    plt.xlabel('Wi')\n",
    "    plt.ylabel(r'psi_2')\n",
    "    plt.show()\n",
    "\n",
    "    \"\"\"\n",
    "    Output\n",
    "    \"\"\"     \n",
    "\n",
    "    with open('prop/avgPsi(Wi)_conc_'+format(conc[c],'.2f')+'c_'+\"_it\"+str(it)+\".csv\",mode='w') as practice_file:\n",
    "        practice = csv.writer(practice_file,delimiter=',')\n",
    "        y = [\"Wi\",\"Psi_1\",\"Err\",\"Psi_2\",\"Err\"]\n",
    "        practice.writerow(y)\n",
    "        for i in range(len(edot)):\n",
    "            x = [Wi[i],psi1_avg[i],psi1_std[i]/np.sqrt(ntr),psi2_avg[i],psi2_std[i]/np.sqrt(ntr)]\n",
    "            practice.writerow(x)\n",
    "        #print(x)\n",
    "            \n",
    "\n",
    "print(\"Done\")  \n",
    "            \n",
    "            \n",
    "            \n",
    "            \n",
    "            \n",
    "            \n",
    "            \n",
    "            "
   ]
  },
  {
   "cell_type": "code",
   "execution_count": 62,
   "metadata": {},
   "outputs": [],
   "source": [
    "##<tau_ij> Analysis #####"
   ]
  },
  {
   "cell_type": "code",
   "execution_count": 71,
   "metadata": {},
   "outputs": [
    {
     "data": {
      "image/png": "[encoded data removed]",
      "text/plain": [
       "<Figure size 640x480 with 1 Axes>"
      ]
     },
     "metadata": {},
     "output_type": "display_data"
    },
    {
     "name": "stdout",
     "output_type": "stream",
     "text": [
      "Done\n"
     ]
    }
   ],
   "source": [
    "import numpy as np\n",
    "import matplotlib.pyplot as plt\n",
    "import csv\n",
    "\n",
    "Nb = 50\n",
    "Nc = 10\n",
    "#conc = np.array([0.005,0.5,2])\n",
    "conc = np.array([0.5])\n",
    "box_length = np.array([42.263516])\n",
    "#box_length = np.array([196.169866,42.263516,26.624347])\n",
    "Ncharges = 0\n",
    "barrier = 3\n",
    "barrier2 = 3\n",
    "lambda_d = 10\n",
    "edot = np.array([0.00041,0.00082,0.00410,0.0082]) \n",
    "#edot = np.array([0.00008,0.00041,0.00082,0.00410,0.00820,0.01639,0.04098,0.08197,0.16393,0.81967,1.63934]) #for 0.5c*\n",
    "#edot = np.array([0.03704,0.07407,0.14815,0.74074,1.48148]) #for 1c*\n",
    "#edot = np.array([0.02591,0.05181,0.10363,0.51813,1.03627]) #for 2c*\n",
    "it = 1\n",
    "ntr = 15\n",
    "tauxy_avg = np.zeros(ntr)\n",
    "tauxx_avg = np.zeros(ntr)\n",
    "tauyy_avg = np.zeros(ntr)\n",
    "tauzz_avg = np.zeros(ntr)\n",
    "\n",
    "tauxy_avg_tr = np.zeros(len(edot))\n",
    "tauxx_avg_tr = np.zeros(len(edot))\n",
    "tauyy_avg_tr = np.zeros(len(edot))\n",
    "tauzz_avg_tr = np.zeros(len(edot))\n",
    "\n",
    "psi1_std = np.zeros(len(edot))\n",
    "psi2_avg = np.zeros(len(edot))\n",
    "psi2_std = np.zeros(len(edot))\n",
    "# tmax = 4999.5#last timestep in MSD file\n",
    "# printprops = 1000\n",
    "# dt = 0.0005\n",
    "Wi = edot*122\n",
    "# nsamp = int(tmax/(dt*printprops))\n",
    "\n",
    "for c in range(0,len(conc)):\n",
    "    for d in range(0,len(edot)):\n",
    "        shear=edot[d]\n",
    "        for tr in range(1,ntr+1):\n",
    "\n",
    "            file_name = \"prop/VF\" + str(Nb)+ \"_\" + str(Nc) + \"_\" + format(conc[c],'.6f') + \"_\" +format(box_length[c],'.6f') + \"_\"+ str(Ncharges) + \"_\" + format(barrier,'.2f') + \"_\" + format(barrier2,'.2f')+\"_\"+ format(lambda_d,'.2f')+\"_\"+ format(edot[d],'.5f')+\"_\"+str(tr)+\"_\" +str(it)+\".txt\"\n",
    "            #print(file_name)\n",
    "            \n",
    "            \"\"\"\n",
    "            Extracting data\n",
    "            \"\"\"     \n",
    "            tau_ss = 100 #Set Steady-state Time (time/printprops)\n",
    "            my_data = np.loadtxt(file_name,delimiter=' ')\n",
    "            time = my_data[tau_ss:,0]\n",
    "            tauxy = my_data[tau_ss:,1]\n",
    "            tauxx = my_data[tau_ss:,2]\n",
    "            tauyy = my_data[tau_ss:,3]\n",
    "            tauzz = my_data[tau_ss:,4]\n",
    "            \n",
    "            \"\"\"\n",
    "            Check for Noise & Steady-State\n",
    "            \"\"\"  \n",
    "#             plt.plot(time,tauxy)\n",
    "#             plt.plot(time,tauxx)\n",
    "#             plt.plot(time,tauyy)\n",
    "#             plt.plot(time,tauzz)\n",
    "            \n",
    "            \"Calculate <tau_ij> for each trajectory\"\n",
    "            tauxy_avg[tr-1] = np.mean(tauxy)\n",
    "            tauxx_avg[tr-1] = np.mean(tauxx)\n",
    "            tauyy_avg[tr-1] = np.mean(tauyy)\n",
    "            tauzz_avg[tr-1] = np.mean(tauzz)\n",
    "            \n",
    "#             print(\"Wi: %g <tauxy>: %g\" % (Wi[d],tauxy_avg))\n",
    "#             print(\"Wi: %g <tauxx>: %g\" % (Wi[d],tauxx_avg))\n",
    "#             print(\"Wi: %g <tauyy>: %g\" % (Wi[d],tauyy_avg))\n",
    "#             print(\"Wi: %g <tauzz>: %g\" % (Wi[d],tauzz_avg))\n",
    "            \n",
    "            \n",
    "        \"Average <tau_ij> thru Trajectories\"\n",
    "        tauxy_avg_tr[d] = np.average(tauxy_avg)\n",
    "        tauxx_avg_tr[d] = np.average(tauxx_avg)\n",
    "        tauyy_avg_tr[d] = np.average(tauyy_avg)\n",
    "        tauzz_avg_tr[d] = np.average(tauzz_avg)\n",
    "\n",
    "        \n",
    "    \"Plot Results\"\n",
    "    plt.plot(Wi,tauxy_avg_tr)\n",
    "    plt.ylabel(\"tauxy\")\n",
    "    plt.show()\n",
    "    \n",
    "\n",
    "    \"\"\"\n",
    "    Output\n",
    "    \"\"\"     \n",
    "\n",
    "#     with open('prop/avgVisc(Wi)_conc_'+format(conc[c],'.6f')+'c_'+'_Nchrg'+str(Ncharges)+\"_it\"+str(it)+\".csv\",mode='w') as practice_file:\n",
    "#         practice = csv.writer(practice_file,delimiter=',')\n",
    "#         y = [\"edot\",\"visc\",\"Err\"]\n",
    "#         practice.writerow(y)\n",
    "#         for i in range(len(edot)):\n",
    "#             x = [Wi[i],visc_avg[i],visc_std[i]/np.sqrt(ntr)]\n",
    "#             practice.writerow(x)\n",
    "#         #print(x)\n",
    "            \n",
    "\n",
    "print(\"Done\")  \n",
    "            \n",
    "            \n",
    "            \n",
    "            \n",
    "            \n",
    "            \n",
    "            \n",
    "            "
   ]
  },
  {
   "cell_type": "code",
   "execution_count": 8,
   "metadata": {},
   "outputs": [
    {
     "data": {
      "text/plain": [
       "3.141592653589793"
      ]
     },
     "execution_count": 8,
     "metadata": {},
     "output_type": "execute_result"
    }
   ],
   "source": [
    "np.pi"
   ]
  },
  {
   "cell_type": "code",
   "execution_count": 32,
   "metadata": {},
   "outputs": [
    {
     "ename": "NameError",
     "evalue": "name 'array' is not defined",
     "output_type": "error",
     "traceback": [
      "\u001b[0;31m---------------------------------------------------------------------------\u001b[0m",
      "\u001b[0;31mNameError\u001b[0m                                 Traceback (most recent call last)",
      "\u001b[0;32m<ipython-input-32-15afb6e51c33>\u001b[0m in \u001b[0;36m<module>\u001b[0;34m\u001b[0m\n\u001b[0;32m----> 1\u001b[0;31m \u001b[0;34m{\u001b[0m\u001b[0;34m'L'\u001b[0m\u001b[0;34m:\u001b[0m \u001b[0;36m1\u001b[0m\u001b[0;34m,\u001b[0m \u001b[0;34m'R'\u001b[0m\u001b[0;34m:\u001b[0m \u001b[0marray\u001b[0m\u001b[0;34m(\u001b[0m\u001b[0;34m[\u001b[0m \u001b[0;36m0.6525125\u001b[0m \u001b[0;34m,\u001b[0m  \u001b[0;36m0.75411864\u001b[0m\u001b[0;34m,\u001b[0m  \u001b[0;36m0.40556725\u001b[0m\u001b[0;34m]\u001b[0m\u001b[0;34m)\u001b[0m\u001b[0;34m}\u001b[0m\u001b[0;34m\u001b[0m\u001b[0;34m\u001b[0m\u001b[0m\n\u001b[0m",
      "\u001b[0;31mNameError\u001b[0m: name 'array' is not defined"
     ]
    }
   ],
   "source": [
    "{'L': 1, 'R': array([ 0.6525125 ,  0.75411864,  0.40556725])}"
   ]
  },
  {
   "cell_type": "code",
   "execution_count": null,
   "metadata": {},
   "outputs": [],
   "source": []
  }
 ],
 "metadata": {
  "kernelspec": {
   "display_name": "Python 3 (ipykernel)",
   "language": "python",
   "name": "python3"
  },
  "language_info": {
   "codemirror_mode": {
    "name": "ipython",
    "version": 3
   },
   "file_extension": ".py",
   "mimetype": "text/x-python",
   "name": "python",
   "nbconvert_exporter": "python",
   "pygments_lexer": "ipython3",
   "version": "3.11.5"
  }
 },
 "nbformat": 4,
 "nbformat_minor": 4
}
